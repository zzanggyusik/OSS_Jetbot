{
 "cells": [
  {
   "cell_type": "code",
   "execution_count": 24,
   "metadata": {},
   "outputs": [],
   "source": [
    "from jetbot import Camera\n",
    "from jetbot import bgr8_to_jpeg\n",
    "import PID\n",
    "\n",
    "\n",
    "camera = Camera.instance(width=720, height=720)"
   ]
  },
  {
   "cell_type": "code",
   "execution_count": 25,
   "metadata": {},
   "outputs": [],
   "source": [
    "import ipywidgets.widgets as widgets\n",
    "image = widgets.Image(format='jpeg', width=224, height=224)\n",
    "# display(image)"
   ]
  },
  {
   "cell_type": "code",
   "execution_count": 26,
   "metadata": {},
   "outputs": [],
   "source": [
    "from jetbot import bgr8_to_jpeg\n",
    "import traitlets\n",
    "camera_link = traitlets.dlink((camera, 'value'), (image, 'value'), transform=bgr8_to_jpeg)"
   ]
  },
  {
   "cell_type": "code",
   "execution_count": 1,
   "metadata": {},
   "outputs": [],
   "source": [
    "import cv2\n",
    "import numpy as np\n",
    "from RGB_Lib import Programing_RGB\n",
    "RGB = Programing_RGB()"
   ]
  },
  {
   "cell_type": "code",
   "execution_count": null,
   "metadata": {},
   "outputs": [],
   "source": [
    "while 1:\n",
    "    frame = camera.value\n",
    "\n",
    "    hsv = cv2.cvtColor(frame,cv2.COLOR_BGR2HSV)\n",
    "\n",
    "    lower_red = np.array([150,50,50])\n",
    "    upper_red = np.array([180,255,255])\n",
    "    \n",
    "    lower_green = np.array([50,150,50])\n",
    "    upper_green = np.array([80,255,255])\n",
    "    \n",
    "    lower_blue = np.array([100,100,120])\n",
    "    upper_blue = np.array([150,255,255])\n",
    "    \n",
    "    mask = cv2.inRange(hsv,lower_red,upper_red)\n",
    "    mask1 = cv2.inRange(hsv,lower_green,upper_green)\n",
    "    mask2 = cv2.inRange(hsv,lower_blue,upper_blue)\n",
    "    \n",
    "    b = np.array([mask.sum(),mask1.sum(),mask2.sum()])\n",
    "    \n",
    "    color_list = np.array([[0xFF, 0x00, 0x00],[0x00, 0xFF, 0x00],[0x00, 0x00, 0xFF]])\n",
    "    \n",
    "    bg = b.argmax()\n",
    "    \n",
    "    RGB.Set_All_RGB(color_list[bg][0],color_list[bg][1],color_list[bg][2])"
   ]
  },
  {
   "cell_type": "code",
   "execution_count": 29,
   "metadata": {},
   "outputs": [],
   "source": [
    "camera.stop()"
   ]
  }
 ],
 "metadata": {
  "kernelspec": {
   "display_name": "Python 3",
   "language": "python",
   "name": "python3"
  },
  "language_info": {
   "codemirror_mode": {
    "name": "ipython",
    "version": 3
   },
   "file_extension": ".py",
   "mimetype": "text/x-python",
   "name": "python",
   "nbconvert_exporter": "python",
   "pygments_lexer": "ipython3",
   "version": "3.6.9"
  }
 },
 "nbformat": 4,
 "nbformat_minor": 4
}
