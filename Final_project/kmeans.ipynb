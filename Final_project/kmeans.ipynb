{
 "cells": [
  {
   "cell_type": "code",
   "execution_count": 3,
   "metadata": {},
   "outputs": [
    {
     "name": "stdout",
     "output_type": "stream",
     "text": [
      "Cluster Centers: [[2.         2.33333333 2.66666667]\n",
      " [8.66666667 8.         8.        ]]\n",
      "Cluster Labels: [0 0 1 1 0 1]\n"
     ]
    }
   ],
   "source": [
    "import numpy as np\n",
    "\n",
    "def kmeans(X, k, max_iters=100):\n",
    "    # 데이터 포인트의 수와 특성의 수 확인\n",
    "    m, n = X.shape\n",
    "\n",
    "    # 초기 중심 선택\n",
    "    centroids = X[np.random.choice(m, k, replace=False)]\n",
    "\n",
    "    for _ in range(max_iters):\n",
    "        # 각 데이터 포인트에 대해 가장 가까운 중심 찾기\n",
    "        distances = np.linalg.norm(X[:, np.newaxis] - centroids, axis=2)\n",
    "        labels = np.argmin(distances, axis=1)\n",
    "\n",
    "        # 중심 재계산\n",
    "        new_centroids = np.array([X[labels == j].mean(axis=0) for j in range(k)])\n",
    "\n",
    "        # 수렴 여부 확인\n",
    "        if np.all(centroids == new_centroids):\n",
    "            break\n",
    "\n",
    "        centroids = new_centroids\n",
    "\n",
    "    return centroids, labels\n",
    "data = np.array([[1, 2,3], [2, 3,4], [8, 7,5], [10, 8,9], [3, 2,1], [8,9, 10]])\n",
    "\n",
    "# 클러스터 개수 지정\n",
    "k = 2\n",
    "\n",
    "# k-means 알고리즘 적용\n",
    "centroids, labels = kmeans(data, k)\n",
    "\n",
    "# 결과 출력\n",
    "print(\"Cluster Centers:\", centroids)\n",
    "print(\"Cluster Labels:\", labels)"
   ]
  },
  {
   "cell_type": "code",
   "execution_count": null,
   "metadata": {},
   "outputs": [],
   "source": []
  }
 ],
 "metadata": {
  "kernelspec": {
   "display_name": "Python 3",
   "language": "python",
   "name": "python3"
  },
  "language_info": {
   "codemirror_mode": {
    "name": "ipython",
    "version": 3
   },
   "file_extension": ".py",
   "mimetype": "text/x-python",
   "name": "python",
   "nbconvert_exporter": "python",
   "pygments_lexer": "ipython3",
   "version": "3.6.9"
  }
 },
 "nbformat": 4,
 "nbformat_minor": 5
}
